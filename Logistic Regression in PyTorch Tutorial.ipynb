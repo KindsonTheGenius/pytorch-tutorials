{
 "cells": [
  {
   "cell_type": "markdown",
   "id": "d332555c",
   "metadata": {},
   "source": [
    "#### 1. import the required modules"
   ]
  },
  {
   "cell_type": "code",
   "execution_count": 29,
   "id": "3c8b6419",
   "metadata": {},
   "outputs": [],
   "source": [
    "import torch\n",
    "import torch.nn as nn\n",
    "import numpy as np\n",
    "from sklearn import datasets\n",
    "from sklearn.preprocessing import StandardScaler\n",
    "from sklearn.model_selection import train_test_split"
   ]
  },
  {
   "cell_type": "markdown",
   "id": "5dfac786",
   "metadata": {},
   "source": [
    "#### 2. load up the breast cancer dataset"
   ]
  },
  {
   "cell_type": "code",
   "execution_count": 34,
   "id": "d96c4acc",
   "metadata": {},
   "outputs": [],
   "source": [
    "dataset = datasets.load_breast_cancer()\n",
    "X = dataset.data\n",
    "y = dataset.target"
   ]
  },
  {
   "cell_type": "markdown",
   "id": "ed49b1e3",
   "metadata": {},
   "source": [
    "#### 3. get the number of samples and number of features"
   ]
  },
  {
   "cell_type": "code",
   "execution_count": 35,
   "id": "7948beea",
   "metadata": {},
   "outputs": [
    {
     "name": "stdout",
     "output_type": "stream",
     "text": [
      "569 30\n"
     ]
    }
   ],
   "source": [
    "n_samples, n_features = X.shape\n",
    "print(n_samples, n_features)"
   ]
  },
  {
   "cell_type": "markdown",
   "id": "7147da44",
   "metadata": {},
   "source": [
    "#### 4. split the dataset into train and test datasets"
   ]
  },
  {
   "cell_type": "code",
   "execution_count": 36,
   "id": "a4433e2e",
   "metadata": {},
   "outputs": [],
   "source": [
    "X_train, X_test, y_train, y_test = train_test_split(X, y, test_size=0.2, random_state=1234)"
   ]
  },
  {
   "cell_type": "markdown",
   "id": "4b8e97dd",
   "metadata": {},
   "source": [
    "#### 5. scale the dataset"
   ]
  },
  {
   "cell_type": "code",
   "execution_count": 37,
   "id": "d76c1a96",
   "metadata": {},
   "outputs": [],
   "source": [
    "sc = StandardScaler()\n",
    "X_train = sc.fit_transform(X_train)\n",
    "X_test = sc.transform(X_test)"
   ]
  },
  {
   "cell_type": "markdown",
   "id": "e6e9e3ed",
   "metadata": {},
   "source": [
    "#### 6. convert data from np array to pytorch tensors"
   ]
  },
  {
   "cell_type": "code",
   "execution_count": 38,
   "id": "9864c52f",
   "metadata": {},
   "outputs": [],
   "source": [
    "X_train = torch.from_numpy(X_train.astype(np.float32))\n",
    "X_test = torch.from_numpy(X_test.astype(np.float32))\n",
    "y_train = torch.from_numpy(y_train.astype(np.float32))\n",
    "y_test = torch.from_numpy(y_test.astype(np.float32))"
   ]
  },
  {
   "cell_type": "markdown",
   "id": "b3b24bd3",
   "metadata": {},
   "source": [
    "#### 7. reshape the y tensors to column vectors"
   ]
  },
  {
   "cell_type": "code",
   "execution_count": 39,
   "id": "e30f59de",
   "metadata": {},
   "outputs": [],
   "source": [
    "y_train = y_train.view(y_train.shape[0], 1)\n",
    "y_test = y_test.view(y_test.shape[0], 1)"
   ]
  },
  {
   "cell_type": "markdown",
   "id": "2b249839",
   "metadata": {},
   "source": [
    "#### 8. setup the model class"
   ]
  },
  {
   "cell_type": "code",
   "execution_count": 40,
   "id": "2e527cd9",
   "metadata": {},
   "outputs": [],
   "source": [
    "class LogisticRegression(nn.Module):\n",
    "    \n",
    "    def __init__(self, n_input_features):\n",
    "        super(LogisticRegression, self).__init__()\n",
    "        self.linear = nn.Linear(n_input_features, 1)\n",
    "        \n",
    "    def forward(self, x):\n",
    "        y_predicted = torch.sigmoid(self.linear(x))\n",
    "        return y_predicted"
   ]
  },
  {
   "cell_type": "markdown",
   "id": "07b8c594",
   "metadata": {},
   "source": [
    "#### 9. instantiate the model"
   ]
  },
  {
   "cell_type": "code",
   "execution_count": 41,
   "id": "8736f946",
   "metadata": {},
   "outputs": [],
   "source": [
    "model = LogisticRegression(n_features)"
   ]
  },
  {
   "cell_type": "markdown",
   "id": "2f62680f",
   "metadata": {},
   "source": [
    "#### 10. create the loss function and optimizer"
   ]
  },
  {
   "cell_type": "code",
   "execution_count": 42,
   "id": "fd2549fc",
   "metadata": {},
   "outputs": [],
   "source": [
    "learning_rate = 0.01\n",
    "loss_function =  nn.BCELoss()\n",
    "optimizer = torch.optim.SGD(model.parameters(), lr=learning_rate)"
   ]
  },
  {
   "cell_type": "markdown",
   "id": "6716a8e9",
   "metadata": {},
   "source": [
    "#### 11. peform the training in 100 epochs"
   ]
  },
  {
   "cell_type": "code",
   "execution_count": 43,
   "id": "2c063241",
   "metadata": {},
   "outputs": [
    {
     "name": "stdout",
     "output_type": "stream",
     "text": [
      "epoch: 10, loss: 0.54402\n",
      "epoch: 20, loss: 0.45974\n",
      "epoch: 30, loss: 0.40289\n",
      "epoch: 40, loss: 0.36188\n",
      "epoch: 50, loss: 0.33076\n",
      "epoch: 60, loss: 0.30622\n",
      "epoch: 70, loss: 0.28630\n",
      "epoch: 80, loss: 0.26975\n",
      "epoch: 90, loss: 0.25573\n",
      "epoch: 100, loss: 0.24367\n"
     ]
    }
   ],
   "source": [
    "epochs = 100\n",
    "for epoch in range(epochs):\n",
    "    \n",
    "    # forward pass\n",
    "    y_predicted = model(X_train)\n",
    "    loss = loss_function(y_predicted, y_train)\n",
    "    \n",
    "    # backward pass\n",
    "    loss.backward()\n",
    "    \n",
    "    # weight updates\n",
    "    optimizer.step()\n",
    "    \n",
    "    # empty the gradients\n",
    "    optimizer.zero_grad()\n",
    "    \n",
    "    # print the losses\n",
    "    if (epoch + 1) % 10 == 0:\n",
    "        print(f\"epoch: {epoch+1}, loss: {loss.item():.5f}\")\n",
    "    "
   ]
  },
  {
   "cell_type": "markdown",
   "id": "3cdafe9e",
   "metadata": {},
   "source": [
    "#### 12. evaluate the model accuracy using the test data"
   ]
  },
  {
   "cell_type": "code",
   "execution_count": 45,
   "id": "73eee403",
   "metadata": {},
   "outputs": [
    {
     "name": "stdout",
     "output_type": "stream",
     "text": [
      "Accuracy: 0.9035\n"
     ]
    }
   ],
   "source": [
    "y_predicted = model(X_test)\n",
    "y_predicted_class = y_predicted.round()\n",
    "\n",
    "accuracy = y_predicted_class.eq(y_test).sum() / float(y_test.shape[0])\n",
    "print(f\"Accuracy: {accuracy:.4f}\")"
   ]
  },
  {
   "cell_type": "code",
   "execution_count": null,
   "id": "96f9db37",
   "metadata": {},
   "outputs": [],
   "source": []
  }
 ],
 "metadata": {
  "kernelspec": {
   "display_name": "Python 3 (ipykernel)",
   "language": "python",
   "name": "python3"
  },
  "language_info": {
   "codemirror_mode": {
    "name": "ipython",
    "version": 3
   },
   "file_extension": ".py",
   "mimetype": "text/x-python",
   "name": "python",
   "nbconvert_exporter": "python",
   "pygments_lexer": "ipython3",
   "version": "3.11.5"
  }
 },
 "nbformat": 4,
 "nbformat_minor": 5
}
