{
 "cells": [
  {
   "cell_type": "markdown",
   "id": "99f50645",
   "metadata": {},
   "source": [
    "### Introduction - What we'll cover\n",
    "#### In this tutorial, we would build and test a model the performs image recognition"
   ]
  },
  {
   "cell_type": "markdown",
   "id": "f4d65bed",
   "metadata": {},
   "source": [
    "1. Setup Pytorch and Import the neccessary modules\n",
    "2. Download the training dataset\n",
    "3. Download the test dataset\n",
    "4. Preview the the images\n",
    "5. Create the data loaders\n",
    "6. Examine he shape of the data\n",
    "7. Declare your device\n",
    "8. Create the NeuralNetwork model\n",
    "9. Train the model\n",
    "10. Ensure the loss reduces with training\n",
    "11. Test the Model with test dataset\n",
    "12. Examine the Accuracy/Loss\n",
    "13. Save your model\n",
    "14. Load your model\n",
    "15. Use the model to make prediction"
   ]
  },
  {
   "cell_type": "markdown",
   "id": "ea8dba5a",
   "metadata": {},
   "source": [
    "### Part 1 - Install Pytorch and Import neccessary modules"
   ]
  },
  {
   "cell_type": "code",
   "execution_count": 49,
   "id": "d88e0ccc",
   "metadata": {},
   "outputs": [
    {
     "name": "stdout",
     "output_type": "stream",
     "text": [
      "Collecting package metadata (current_repodata.json): / WARNING conda.models.version:get_matcher(556): Using .* with relational operator is superfluous and deprecated and will be removed in a future version of conda. Your spec was 1.7.1.*, but conda is ignoring the .* and treating it as 1.7.1\n",
      "done\n",
      "Solving environment: done\n",
      "\n",
      "\n",
      "==> WARNING: A newer version of conda exists. <==\n",
      "  current version: 23.7.4\n",
      "  latest version: 24.7.1\n",
      "\n",
      "Please update conda by running\n",
      "\n",
      "    $ conda update -n base -c defaults conda\n",
      "\n",
      "Or to minimize the number of packages updated during conda update use\n",
      "\n",
      "     conda install conda=24.7.1\n",
      "\n",
      "\n",
      "\n",
      "# All requested packages already installed.\n",
      "\n",
      "\n",
      "Note: you may need to restart the kernel to use updated packages.\n"
     ]
    }
   ],
   "source": [
    "conda install pytorch torchvision -c pytorch"
   ]
  },
  {
   "cell_type": "code",
   "execution_count": 2,
   "id": "fd217981",
   "metadata": {},
   "outputs": [],
   "source": [
    "import torch\n",
    "from torch import nn\n",
    "from torch.utils.data import DataLoader\n",
    "from torchvision import datasets\n",
    "from torchvision.transforms import ToTensor"
   ]
  },
  {
   "cell_type": "markdown",
   "id": "af5654e1",
   "metadata": {},
   "source": [
    "### Part 2 - Downlaod the Training Dataset"
   ]
  },
  {
   "cell_type": "code",
   "execution_count": 5,
   "id": "167b0b1b",
   "metadata": {},
   "outputs": [],
   "source": [
    "training_data = datasets.FashionMNIST(\n",
    "    root=\"data\",\n",
    "    train=True,\n",
    "    download=True,\n",
    "    transform=ToTensor(),\n",
    ")"
   ]
  },
  {
   "cell_type": "code",
   "execution_count": 6,
   "id": "4d9b935c",
   "metadata": {},
   "outputs": [
    {
     "data": {
      "text/plain": [
       "Dataset FashionMNIST\n",
       "    Number of datapoints: 60000\n",
       "    Root location: data\n",
       "    Split: Train\n",
       "    StandardTransform\n",
       "Transform: ToTensor()"
      ]
     },
     "execution_count": 6,
     "metadata": {},
     "output_type": "execute_result"
    }
   ],
   "source": [
    "training_data"
   ]
  },
  {
   "cell_type": "markdown",
   "id": "3b0cd870",
   "metadata": {},
   "source": [
    "### Part 3 - Download the Test Dataset"
   ]
  },
  {
   "cell_type": "code",
   "execution_count": 7,
   "id": "fe2b78dc",
   "metadata": {},
   "outputs": [],
   "source": [
    "test_data = datasets.FashionMNIST(\n",
    "    root=\"data\",\n",
    "    train=False,\n",
    "    download=True,\n",
    "    transform=ToTensor(),\n",
    ")"
   ]
  },
  {
   "cell_type": "code",
   "execution_count": 8,
   "id": "88a371c7",
   "metadata": {},
   "outputs": [
    {
     "data": {
      "text/plain": [
       "Dataset FashionMNIST\n",
       "    Number of datapoints: 10000\n",
       "    Root location: data\n",
       "    Split: Test\n",
       "    StandardTransform\n",
       "Transform: ToTensor()"
      ]
     },
     "execution_count": 8,
     "metadata": {},
     "output_type": "execute_result"
    }
   ],
   "source": [
    "test_data"
   ]
  },
  {
   "cell_type": "markdown",
   "id": "cb65973c",
   "metadata": {},
   "source": [
    "### Part 4 - View the Images"
   ]
  },
  {
   "cell_type": "code",
   "execution_count": 11,
   "id": "e900d25a",
   "metadata": {},
   "outputs": [
    {
     "data": {
      "image/png": "[encoded data removed]",
      "text/plain": [
       "<Figure size 640x480 with 1 Axes>"
      ]
     },
     "metadata": {},
     "output_type": "display_data"
    }
   ],
   "source": [
    "import matplotlib.pyplot as plt\n",
    "image, label = training_data[1]\n",
    "plt.imshow(image.squeeze(), cmap=\"gray\")\n",
    "plt.title(f\"Label: {label}\")\n",
    "plt.show()"
   ]
  },
  {
   "cell_type": "markdown",
   "id": "7693af7b",
   "metadata": {},
   "source": [
    "### Part 5 - Create the Data Loaders"
   ]
  },
  {
   "cell_type": "code",
   "execution_count": 12,
   "id": "481d73df",
   "metadata": {},
   "outputs": [],
   "source": [
    "batch_size = 64\n",
    "train_dataloader = DataLoader(training_data, batch_size=batch_size)\n",
    "test_dataloader = DataLoader(test_data, batch_size=batch_size)"
   ]
  },
  {
   "cell_type": "markdown",
   "id": "a7de07a4",
   "metadata": {},
   "source": [
    "### Part 6 - Examine the Shape of the Data"
   ]
  },
  {
   "cell_type": "code",
   "execution_count": 19,
   "id": "81e00aa7",
   "metadata": {},
   "outputs": [
    {
     "name": "stdout",
     "output_type": "stream",
     "text": [
      "Shape of X [N, C, H, W]: torch.Size([64, 1, 28, 28])\n",
      "Shape of y: torch.Size([64]), torch.int64\n"
     ]
    }
   ],
   "source": [
    "for X, y in test_dataloader:\n",
    "    print(f\"Shape of X [N, C, H, W]: {X.shape}\")\n",
    "    print(f\"Shape of y: {y.shape}, {y.dtype}\")\n",
    "    break"
   ]
  },
  {
   "cell_type": "markdown",
   "id": "f5f57c00",
   "metadata": {},
   "source": [
    "### Part 7 - Declare Your Device"
   ]
  },
  {
   "cell_type": "code",
   "execution_count": 21,
   "id": "ced3409a",
   "metadata": {},
   "outputs": [
    {
     "name": "stdout",
     "output_type": "stream",
     "text": [
      "Using device: cpu\n"
     ]
    }
   ],
   "source": [
    "device = (\n",
    "    \"cuda\"\n",
    "    if torch.cuda.is_available()\n",
    "    else \"mps\"\n",
    "    if torch.backends.mps.is_available()\n",
    "    else \"cpu\"\n",
    ")\n",
    "print(f\"Using device: {device}\")"
   ]
  },
  {
   "cell_type": "markdown",
   "id": "45e467aa",
   "metadata": {},
   "source": [
    "### Part 8 - Create Your Model \n",
    "- create a class that extends the nn.Module class\n",
    "- define the layers of the network in the init method\n",
    "- specify how data would pass through the network in the forward function"
   ]
  },
  {
   "cell_type": "code",
   "execution_count": 26,
   "id": "4746f998",
   "metadata": {},
   "outputs": [
    {
     "name": "stdout",
     "output_type": "stream",
     "text": [
      "NeuralNetwork(\n",
      "  (flatten): Flatten(start_dim=1, end_dim=-1)\n",
      "  (linear_relu_stack): Sequential(\n",
      "    (0): Linear(in_features=784, out_features=512, bias=True)\n",
      "    (1): ReLU()\n",
      "    (2): Linear(in_features=512, out_features=512, bias=True)\n",
      "    (3): ReLU()\n",
      "    (4): Linear(in_features=512, out_features=10, bias=True)\n",
      "  )\n",
      ")\n"
     ]
    }
   ],
   "source": [
    "class NeuralNetwork(nn.Module):\n",
    "    def __init__(self):\n",
    "        super().__init__()\n",
    "        \n",
    "        # create the input layer\n",
    "        self.flatten = nn.Flatten()\n",
    "        \n",
    "        # create the 2 hidden layers\n",
    "        self.linear_relu_stack = nn.Sequential(\n",
    "            nn.Linear(28*28, 512),\n",
    "            nn.ReLU(),\n",
    "            nn.Linear(512, 512),\n",
    "            nn.ReLU(),\n",
    "            nn.Linear(512, 10)\n",
    "        )\n",
    "        \n",
    "    def forward(self, x):\n",
    "        x = self.flatten(x)\n",
    "        logits = self.linear_relu_stack(x)\n",
    "        return logits\n",
    "    \n",
    "model = NeuralNetwork().to(device)\n",
    "print(model)"
   ]
  },
  {
   "cell_type": "markdown",
   "id": "f9f4cf73",
   "metadata": {},
   "source": [
    "### Part 9, 10 - Train the Model"
   ]
  },
  {
   "cell_type": "code",
   "execution_count": 38,
   "id": "076946fe",
   "metadata": {},
   "outputs": [
    {
     "name": "stdout",
     "output_type": "stream",
     "text": [
      "Loss: 0.556356  [   64/60000]\n",
      "Loss: 0.651494  [ 6464/60000]\n",
      "Loss: 0.439277  [12864/60000]\n",
      "Loss: 0.669322  [19264/60000]\n",
      "Loss: 0.581347  [25664/60000]\n",
      "Loss: 0.556760  [32064/60000]\n",
      "Loss: 0.595068  [38464/60000]\n",
      "Loss: 0.638834  [44864/60000]\n",
      "Loss: 0.674050  [51264/60000]\n",
      "Loss: 0.552437  [57664/60000]\n"
     ]
    }
   ],
   "source": [
    "size = len(train_dataloader.dataset)\n",
    "model.train()\n",
    "\n",
    "learning_rate = 0.01\n",
    "loss_function = nn.CrossEntropyLoss()\n",
    "optimizer = torch.optim.SGD(model.parameters(), lr=learning_rate)\n",
    "\n",
    "\n",
    "for batch, (X, y) in enumerate(train_dataloader):\n",
    "    X = X.to(device)\n",
    "    y = y.to(device)\n",
    "    \n",
    "    # forward pass: make predict and compute loss\n",
    "    y_predicted = model(X)\n",
    "    loss = loss_function(y_predicted, y)\n",
    "    \n",
    "    # backward pass: \n",
    "    loss.backward()\n",
    "    optimizer.step()\n",
    "    optimizer.zero_grad()\n",
    "    \n",
    "    if batch % 100 == 0:\n",
    "        loss = loss.item()\n",
    "        current = (batch + 1) * len(X)\n",
    "        \n",
    "        print(f\"Loss: {loss:>7f}  [{current:>5d}/{size:>5d}]\")"
   ]
  },
  {
   "cell_type": "markdown",
   "id": "c0405866",
   "metadata": {},
   "source": [
    "### 11, 12. Test the Model"
   ]
  },
  {
   "cell_type": "code",
   "execution_count": 39,
   "id": "eda49cda",
   "metadata": {},
   "outputs": [
    {
     "name": "stdout",
     "output_type": "stream",
     "text": [
      "Model Accuracy and Loss \n",
      "\n",
      "Accuacy: 79.7%, Avg. Loss: 0.572809 \n",
      "\n"
     ]
    }
   ],
   "source": [
    "size = len(test_dataloader.dataset)\n",
    "num_batches = len(test_dataloader)\n",
    "\n",
    "model.eval()\n",
    "\n",
    "test_loss = 0\n",
    "correct = 0\n",
    "\n",
    "with torch.no_grad():\n",
    "    for X, y in test_dataloader:\n",
    "        X = X.to(device)\n",
    "        y = y.to(device)\n",
    "        \n",
    "        y_predicted = model(X)\n",
    "        test_loss = test_loss + loss_function(y_predicted, y).item()\n",
    "        correct = correct + (y_predicted.argmax(1) == y).type(torch.float).sum().item()\n",
    "        \n",
    "test_loss = test_loss/num_batches\n",
    "correct = correct/size\n",
    "\n",
    "print(\"Model Accuracy and Loss \\n\")\n",
    "print(f\"Accuacy: {(correct*100) :>0.1f}%, Avg. Loss: {test_loss:>8f} \\n\")"
   ]
  },
  {
   "cell_type": "markdown",
   "id": "152a1517",
   "metadata": {},
   "source": [
    "### Part 13 - Save Your Model"
   ]
  },
  {
   "cell_type": "code",
   "execution_count": 40,
   "id": "f3e1a8fc",
   "metadata": {},
   "outputs": [
    {
     "name": "stdout",
     "output_type": "stream",
     "text": [
      "Model has beeen saved to model.pth\n"
     ]
    }
   ],
   "source": [
    "torch.save(model.state_dict(), \"model.pth\")\n",
    "print(\"Model has beeen saved to model.pth\")"
   ]
  },
  {
   "cell_type": "markdown",
   "id": "e352a2db",
   "metadata": {},
   "source": [
    "### Part 14 - Loading Your Model"
   ]
  },
  {
   "cell_type": "code",
   "execution_count": 43,
   "id": "123ce3fe",
   "metadata": {},
   "outputs": [
    {
     "data": {
      "text/plain": [
       "<All keys matched successfully>"
      ]
     },
     "execution_count": 43,
     "metadata": {},
     "output_type": "execute_result"
    }
   ],
   "source": [
    "model = NeuralNetwork().to(device)\n",
    "model.load_state_dict(torch.load(\"model.pth\"))"
   ]
  },
  {
   "cell_type": "code",
   "execution_count": 44,
   "id": "e34cb510",
   "metadata": {},
   "outputs": [
    {
     "data": {
      "text/plain": [
       "NeuralNetwork(\n",
       "  (flatten): Flatten(start_dim=1, end_dim=-1)\n",
       "  (linear_relu_stack): Sequential(\n",
       "    (0): Linear(in_features=784, out_features=512, bias=True)\n",
       "    (1): ReLU()\n",
       "    (2): Linear(in_features=512, out_features=512, bias=True)\n",
       "    (3): ReLU()\n",
       "    (4): Linear(in_features=512, out_features=10, bias=True)\n",
       "  )\n",
       ")"
      ]
     },
     "execution_count": 44,
     "metadata": {},
     "output_type": "execute_result"
    }
   ],
   "source": [
    "model"
   ]
  },
  {
   "cell_type": "markdown",
   "id": "52516e8b",
   "metadata": {},
   "source": [
    "### Part 15 - Use the Model to Make Prediction"
   ]
  },
  {
   "cell_type": "code",
   "execution_count": 48,
   "id": "e2e42802",
   "metadata": {},
   "outputs": [
    {
     "name": "stdout",
     "output_type": "stream",
     "text": [
      "Predicted:  Ankle boot, Actual: Ankle boot\n"
     ]
    }
   ],
   "source": [
    "classes = [\n",
    "    \"T-shirt/top\",\n",
    "    \"Trouser\",\n",
    "    \"Pullover\",\n",
    "    \"Dress\",\n",
    "    \"Coat\",\n",
    "    \"Sanda\",\n",
    "    \"Shirt\",\n",
    "    \"Sneaker\",\n",
    "    \"Bag\",\n",
    "    \"Ankle boot\"\n",
    "]\n",
    "\n",
    "model.eval()\n",
    "\n",
    "x = test_data[0][0]\n",
    "y = test_data[0][1]\n",
    "\n",
    "with torch.no_grad():\n",
    "    x = x.to(device)\n",
    "    prediction = model(x)\n",
    "    \n",
    "    predicted = classes[prediction[0].argmax(0)]\n",
    "    actual = classes[y]\n",
    "    \n",
    "    print(f\"Predicted:  {predicted}, Actual: {actual}\")"
   ]
  },
  {
   "cell_type": "markdown",
   "id": "7f4417a7",
   "metadata": {},
   "source": [
    "## Part 16 - Next Steps\n",
    "\n",
    "1 Tensor Basics \\\n",
    "2 Autograd \\\n",
    "3 Backpropagation \\\n",
    "4 Gradient Descent \\\n",
    "5 Training Pipeline \\\n",
    "6 Linear Regression \\\n",
    "7 Logistic Regression \\\n",
    "8 Dataset and Dataloader \\\n",
    "9 Dataset Transforms \\\n",
    "10 Softmax and Crossentropy \\\n",
    "11 Activation Functions \\\n",
    "12 Feed Forward Net \\\n",
    "13 CNN \\\n",
    "14 Transfer Learning \\\n",
    "15 Tensorboard \\\n",
    "16 Image Filter \\\n",
    "17 Next Steps \\"
   ]
  },
  {
   "cell_type": "code",
   "execution_count": null,
   "id": "23cda59a",
   "metadata": {},
   "outputs": [],
   "source": []
  }
 ],
 "metadata": {
  "kernelspec": {
   "display_name": "Python 3 (ipykernel)",
   "language": "python",
   "name": "python3"
  },
  "language_info": {
   "codemirror_mode": {
    "name": "ipython",
    "version": 3
   },
   "file_extension": ".py",
   "mimetype": "text/x-python",
   "name": "python",
   "nbconvert_exporter": "python",
   "pygments_lexer": "ipython3",
   "version": "3.11.5"
  }
 },
 "nbformat": 4,
 "nbformat_minor": 5
}
